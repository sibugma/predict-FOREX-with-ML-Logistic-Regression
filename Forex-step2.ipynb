{
  "nbformat": 4,
  "nbformat_minor": 0,
  "metadata": {
    "colab": {
      "provenance": [],
      "authorship_tag": "ABX9TyPqJZF4sZ7TDLxYwiHhi1u8",
      "include_colab_link": true
    },
    "kernelspec": {
      "name": "python3",
      "display_name": "Python 3"
    },
    "language_info": {
      "name": "python"
    }
  },
  "cells": [
    {
      "cell_type": "markdown",
      "metadata": {
        "id": "view-in-github",
        "colab_type": "text"
      },
      "source": [
        "<a href=\"https://colab.research.google.com/github/sibugma/predict-FOREX-with-ML-Logistic-Regression/blob/main/Forex-step2.ipynb\" target=\"_parent\"><img src=\"https://colab.research.google.com/assets/colab-badge.svg\" alt=\"Open In Colab\"/></a>"
      ]
    },
    {
      "cell_type": "code",
      "execution_count": 3,
      "metadata": {
        "colab": {
          "base_uri": "https://localhost:8080/"
        },
        "id": "ts8FnwH8Kl6w",
        "outputId": "f060e206-221f-4d3d-ba6b-9fce6cf2dfe7"
      },
      "outputs": [
        {
          "output_type": "stream",
          "name": "stderr",
          "text": [
            "\r[*********************100%***********************]  1 of 1 completed"
          ]
        },
        {
          "output_type": "stream",
          "name": "stdout",
          "text": [
            "Accuracy: 0.538961038961039\n",
            "Classification Report:\n",
            "               precision    recall  f1-score   support\n",
            "\n",
            "           0       0.56      0.53      0.54        80\n",
            "           1       0.52      0.55      0.54        74\n",
            "\n",
            "    accuracy                           0.54       154\n",
            "   macro avg       0.54      0.54      0.54       154\n",
            "weighted avg       0.54      0.54      0.54       154\n",
            "\n",
            "Confusion Matrix:\n",
            " [[42 38]\n",
            " [33 41]]\n",
            "Prediction for the latest data: Up\n"
          ]
        },
        {
          "output_type": "stream",
          "name": "stderr",
          "text": [
            "\n"
          ]
        }
      ],
      "source": [
        "# Import libraries\n",
        "import yfinance as yf\n",
        "import pandas as pd\n",
        "import numpy as np\n",
        "from sklearn.model_selection import train_test_split\n",
        "from sklearn.linear_model import LogisticRegression\n",
        "from sklearn.metrics import accuracy_score, classification_report, confusion_matrix\n",
        "\n",
        "# Download EURUSD exchange rate data\n",
        "data = yf.download(\"EURUSD=X\", start=\"2020-01-01\", end=\"2023-01-01\")\n",
        "\n",
        "# Add technical indicators\n",
        "# Simple Moving Average (SMA)\n",
        "data['SMA'] = data['Close'].rolling(window=14).mean()\n",
        "\n",
        "# Calculate RSI (Relative Strength Index)\n",
        "delta = data['Close'].diff(1)\n",
        "gain = delta.where(delta > 0, 0)\n",
        "loss = -delta.where(delta < 0, 0)\n",
        "avg_gain = gain.rolling(window=14).mean()\n",
        "avg_loss = loss.rolling(window=14).mean()\n",
        "rs = avg_gain / avg_loss\n",
        "data['RSI'] = 100 - (100 / (1 + rs))\n",
        "\n",
        "# Calculate MACD (Moving Average Convergence Divergence)\n",
        "exp1 = data['Close'].ewm(span=12, adjust=False).mean()\n",
        "exp2 = data['Close'].ewm(span=26, adjust=False).mean()\n",
        "data['MACD'] = exp1 - exp2\n",
        "data['MACD_signal'] = data['MACD'].ewm(span=9, adjust=False).mean()\n",
        "\n",
        "# Add price change column and target\n",
        "data['Price_Change'] = data['Close'].diff()\n",
        "data['Target'] = np.where(data['Price_Change'] > 0, 1, 0)  # 1 if price increased, otherwise 0\n",
        "\n",
        "# Drop NaN values\n",
        "data.dropna(inplace=True)\n",
        "\n",
        "# Define features and target variable\n",
        "X = data[['Open', 'High', 'Low', 'Close', 'Volume', 'SMA', 'RSI', 'MACD', 'MACD_signal']]\n",
        "y = data['Target']\n",
        "\n",
        "# Split data into training and testing sets\n",
        "X_train, X_test, y_train, y_test = train_test_split(X, y, test_size=0.2, random_state=42)\n",
        "\n",
        "# Create and train logistic regression model\n",
        "model = LogisticRegression(max_iter=1000)\n",
        "model.fit(X_train, y_train)\n",
        "\n",
        "# Make predictions on the test set and evaluate the model\n",
        "y_pred = model.predict(X_test)\n",
        "accuracy = accuracy_score(y_test, y_pred)\n",
        "print(\"Accuracy:\", accuracy)\n",
        "print(\"Classification Report:\\n\", classification_report(y_test, y_pred))\n",
        "print(\"Confusion Matrix:\\n\", confusion_matrix(y_test, y_pred))\n",
        "\n",
        "# Predict for new data (latest available data)\n",
        "latest_data = data[['Open', 'High', 'Low', 'Close', 'Volume', 'SMA', 'RSI', 'MACD', 'MACD_signal']].iloc[-1].values.reshape(1, -1)\n",
        "prediction = model.predict(latest_data)\n",
        "print(\"Prediction for the latest data:\", \"Up\" if prediction[0] == 1 else \"Down\")\n"
      ]
    },
    {
      "cell_type": "code",
      "source": [],
      "metadata": {
        "id": "M-T5WnJcLIim"
      },
      "execution_count": null,
      "outputs": []
    },
    {
      "cell_type": "code",
      "source": [],
      "metadata": {
        "id": "FaLw1O3oLMZS"
      },
      "execution_count": null,
      "outputs": []
    }
  ]
}