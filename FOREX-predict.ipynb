{
  "cells": [
    {
      "cell_type": "markdown",
      "metadata": {
        "id": "view-in-github",
        "colab_type": "text"
      },
      "source": [
        "<a href=\"https://colab.research.google.com/github/sibugma/predict-FOREX-with-ML-Logistic-Regression/blob/main/FOREX-predict.ipynb\" target=\"_parent\"><img src=\"https://colab.research.google.com/assets/colab-badge.svg\" alt=\"Open In Colab\"/></a>"
      ]
    },
    {
      "cell_type": "code",
      "source": [
        "# Import libraries\n",
        "import yfinance as yf\n",
        "import pandas as pd\n",
        "import numpy as np\n",
        "from sklearn.model_selection import train_test_split\n",
        "from sklearn.linear_model import LogisticRegression\n",
        "from sklearn.metrics import accuracy_score, classification_report, confusion_matrix\n",
        "\n",
        "# Download EURUSD currency pair data\n",
        "data = yf.download(\"EURUSD=X\", start=\"2020-01-01\", end=\"2023-01-01\")\n",
        "\n",
        "# Add price change and target columns\n",
        "data['Price_Change'] = data['Close'].diff()\n",
        "data['Target'] = np.where(data['Price_Change'] > 0, 1, 0)  # 1 if price increased, otherwise 0\n",
        "\n",
        "# Drop NaN values\n",
        "data.dropna(inplace=True)\n",
        "\n",
        "# Features and target variable\n",
        "X = data[['Open', 'High', 'Low', 'Close', 'Volume']]\n",
        "y = data['Target']\n",
        "\n",
        "# Split data into training and testing sets\n",
        "X_train, X_test, y_train, y_test = train_test_split(X, y, test_size=0.2, random_state=42)\n",
        "\n",
        "# Create and train logistic regression model\n",
        "model = LogisticRegression()\n",
        "model.fit(X_train, y_train)\n",
        "\n",
        "# Predict with test data and evaluate the model\n",
        "y_pred = model.predict(X_test)\n",
        "accuracy = accuracy_score(y_test, y_pred)\n",
        "print(\"Accuracy:\", accuracy)\n",
        "print(\"Classification Report:\\n\", classification_report(y_test, y_pred))\n",
        "print(\"Confusion Matrix:\\n\", confusion_matrix(y_test, y_pred))\n",
        "\n",
        "# Prediction for new data (latest available data)\n",
        "latest_data = data[['Open', 'High', 'Low', 'Close', 'Volume']].iloc[-1].values.reshape(1, -1)\n",
        "prediction = model.predict(latest_data)\n",
        "print(\"Prediction for the latest data:\", \"Up\" if prediction[0] == 1 else \"Down\")\n"
      ],
      "metadata": {
        "colab": {
          "base_uri": "https://localhost:8080/"
        },
        "id": "0Xp1NZGez4mM",
        "outputId": "0842fa21-5564-45cb-a07c-2c36afceb992"
      },
      "execution_count": 9,
      "outputs": [
        {
          "output_type": "stream",
          "name": "stderr",
          "text": [
            "\r[*********************100%***********************]  1 of 1 completed"
          ]
        },
        {
          "output_type": "stream",
          "name": "stdout",
          "text": [
            "Accuracy: 0.5095541401273885\n",
            "Classification Report:\n",
            "               precision    recall  f1-score   support\n",
            "\n",
            "           0       0.50      0.99      0.67        78\n",
            "           1       0.75      0.04      0.07        79\n",
            "\n",
            "    accuracy                           0.51       157\n",
            "   macro avg       0.63      0.51      0.37       157\n",
            "weighted avg       0.63      0.51      0.37       157\n",
            "\n",
            "Confusion Matrix:\n",
            " [[77  1]\n",
            " [76  3]]\n",
            "Prediction for the latest data: Down\n"
          ]
        },
        {
          "output_type": "stream",
          "name": "stderr",
          "text": [
            "\n"
          ]
        }
      ]
    },
    {
      "cell_type": "code",
      "source": [],
      "metadata": {
        "id": "3wGv6p_i3TnA"
      },
      "execution_count": null,
      "outputs": []
    }
  ],
  "metadata": {
    "colab": {
      "name": "Welcome To Colab",
      "provenance": [],
      "include_colab_link": true
    },
    "kernelspec": {
      "display_name": "Python 3",
      "name": "python3"
    }
  },
  "nbformat": 4,
  "nbformat_minor": 0
}